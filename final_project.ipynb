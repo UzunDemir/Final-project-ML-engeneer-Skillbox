{
 "cells": [
  {
   "cell_type": "markdown",
   "id": "90cf5957-9f0e-4185-8c27-2ec2a1204866",
   "metadata": {},
   "source": [
    "# Финальная работа курса «Введение в Data Science», специализация: Machine Learning Engineer"
   ]
  },
  {
   "cell_type": "markdown",
   "id": "5a628ba2-0794-46ce-ac8d-fdb9dff3ff7b",
   "metadata": {},
   "source": [
    "## Что нужно сделать\n",
    "Изучить предоставленный датасет, ответить на вопросы\n",
    "из общей части (подразумевающей базовую обработку данных и их\n",
    "разведочный анализ) и выполнить задание по специализации ML-инженер.\n",
    "\n",
    "ML-инженер:\n",
    "Разбирается в математической статистике, умеет формулировать\n",
    "и исследовать гипотезы. Владеет инструментами Business Intelligence,\n",
    "которые помогают исследовать данные и переводить информацию, которая\n",
    "в них содержится, на язык бизнеса, понятный людям, которые принимают то\n",
    "или иное управленческое решение."
   ]
  },
  {
   "cell_type": "code",
   "execution_count": null,
   "id": "02d6eca4-56ad-4d3d-88ef-93daa0e0d520",
   "metadata": {},
   "outputs": [],
   "source": []
  }
 ],
 "metadata": {
  "kernelspec": {
   "display_name": "Python 3 (ipykernel)",
   "language": "python",
   "name": "python3"
  },
  "language_info": {
   "codemirror_mode": {
    "name": "ipython",
    "version": 3
   },
   "file_extension": ".py",
   "mimetype": "text/x-python",
   "name": "python",
   "nbconvert_exporter": "python",
   "pygments_lexer": "ipython3",
   "version": "3.9.7"
  }
 },
 "nbformat": 4,
 "nbformat_minor": 5
}
